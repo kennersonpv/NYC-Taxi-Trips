{
 "cells": [
  {
   "cell_type": "code",
   "execution_count": 79,
   "metadata": {},
   "outputs": [
    {
     "ename": "ImportError",
     "evalue": "cannot import name 'ABC' from 'maps' (D:\\Users\\kennerson\\NYC_Test\\maps.py)",
     "output_type": "error",
     "traceback": [
      "\u001b[1;31m---------------------------------------------------------------------------\u001b[0m",
      "\u001b[1;31mImportError\u001b[0m                               Traceback (most recent call last)",
      "\u001b[1;32m<ipython-input-79-7c6f876819bd>\u001b[0m in \u001b[0;36m<module>\u001b[1;34m\u001b[0m\n\u001b[0;32m      7\u001b[0m \u001b[1;32mfrom\u001b[0m \u001b[0mImportFile\u001b[0m \u001b[1;32mimport\u001b[0m \u001b[0mImportFile\u001b[0m\u001b[1;33m\u001b[0m\u001b[1;33m\u001b[0m\u001b[0m\n\u001b[0;32m      8\u001b[0m \u001b[1;32mfrom\u001b[0m \u001b[0mtrips\u001b[0m \u001b[1;32mimport\u001b[0m \u001b[0mTrips\u001b[0m\u001b[1;33m\u001b[0m\u001b[1;33m\u001b[0m\u001b[0m\n\u001b[1;32m----> 9\u001b[1;33m \u001b[1;32mfrom\u001b[0m \u001b[0mmaps\u001b[0m \u001b[1;32mimport\u001b[0m \u001b[0mABC\u001b[0m\u001b[1;33m\u001b[0m\u001b[1;33m\u001b[0m\u001b[0m\n\u001b[0m",
      "\u001b[1;31mImportError\u001b[0m: cannot import name 'ABC' from 'maps' (D:\\Users\\kennerson\\NYC_Test\\maps.py)"
     ]
    }
   ],
   "source": [
    "# importando as bibliotecas\n",
    "import numpy as np\n",
    "import pandas as pd\n",
    "import matplotlib.pyplot as plt\n",
    "import folium\n",
    "import gmplot \n",
    "from ImportFile import ImportFile\n",
    "from trips import Trips\n",
    "from maps import Maps"
   ]
  },
  {
   "cell_type": "code",
   "execution_count": 2,
   "metadata": {},
   "outputs": [],
   "source": [
    "table = []\n",
    "i = ImportFile(table)"
   ]
  },
  {
   "cell_type": "code",
   "execution_count": 3,
   "metadata": {},
   "outputs": [],
   "source": [
    "trips_1 = open('data-sample-reduzido-2.json', 'r')"
   ]
  },
  {
   "cell_type": "code",
   "execution_count": 4,
   "metadata": {},
   "outputs": [],
   "source": [
    "table = i.importJson(trips_1)"
   ]
  },
  {
   "cell_type": "code",
   "execution_count": 5,
   "metadata": {},
   "outputs": [],
   "source": [
    "df = pd.DataFrame(table)"
   ]
  },
  {
   "cell_type": "code",
   "execution_count": 6,
   "metadata": {},
   "outputs": [
    {
     "name": "stdout",
     "output_type": "stream",
     "text": [
      "<class 'pandas.core.frame.DataFrame'>\n",
      "RangeIndex: 10 entries, 0 to 9\n",
      "Data columns (total 17 columns):\n",
      " #   Column              Non-Null Count  Dtype  \n",
      "---  ------              --------------  -----  \n",
      " 0   vendor_id           10 non-null     object \n",
      " 1   pickup_datetime     10 non-null     object \n",
      " 2   dropoff_datetime    10 non-null     object \n",
      " 3   passenger_count     10 non-null     int64  \n",
      " 4   trip_distance       10 non-null     float64\n",
      " 5   pickup_longitude    10 non-null     float64\n",
      " 6   pickup_latitude     10 non-null     float64\n",
      " 7   rate_code           0 non-null      object \n",
      " 8   store_and_fwd_flag  0 non-null      object \n",
      " 9   dropoff_longitude   10 non-null     float64\n",
      " 10  dropoff_latitude    10 non-null     float64\n",
      " 11  payment_type        10 non-null     object \n",
      " 12  fare_amount         10 non-null     float64\n",
      " 13  surcharge           10 non-null     float64\n",
      " 14  tip_amount          10 non-null     int64  \n",
      " 15  tolls_amount        10 non-null     float64\n",
      " 16  total_amount        10 non-null     float64\n",
      "dtypes: float64(9), int64(2), object(6)\n",
      "memory usage: 1.5+ KB\n"
     ]
    }
   ],
   "source": [
    "df.info()"
   ]
  },
  {
   "cell_type": "code",
   "execution_count": 36,
   "metadata": {},
   "outputs": [],
   "source": [
    "#Questão 06\n",
    "df_q6 = df.copy()\n",
    "df_q6['pickup_datetime'] = df_q6['pickup_datetime'].astype(\"datetime64\")\n",
    "df_q6['date'] = df_q6['pickup_datetime'].dt.date\n",
    "start_date_q6 = pd.to_datetime('2010-01-01')\n",
    "end_date_q6 = pd.to_datetime('2011-01-01')\n",
    "#df_q6 = df_q6.loc[(df_q6['pickup_datetime'] >= start_date_q6) & (df_q6['pickup_datetime'] < end_date_q6)]"
   ]
  },
  {
   "cell_type": "code",
   "execution_count": 39,
   "metadata": {},
   "outputs": [],
   "source": [
    "#print(type(df_q6['pickup_latitude'].astype('float64')))\n",
    "pickup_latitude_collection = df_q6.loc[:,'pickup_latitude']\n",
    "pickup_longitude_collection = df_q6.loc[:,'pickup_longitude'] \n",
    "dropoff_latitude_collection = df_q6.loc[:,'dropoff_latitude'] \n",
    "dropoff_longitude_collection =  df_q6.loc[:,'dropoff_longitude'] "
   ]
  },
  {
   "cell_type": "code",
   "execution_count": 63,
   "metadata": {},
   "outputs": [
    {
     "name": "stdout",
     "output_type": "stream",
     "text": [
      "10\n"
     ]
    }
   ],
   "source": [
    "print(len(pickup_latitude_collection))"
   ]
  },
  {
   "cell_type": "code",
   "execution_count": 67,
   "metadata": {},
   "outputs": [
    {
     "ename": "NameError",
     "evalue": "name 'Maps' is not defined",
     "output_type": "error",
     "traceback": [
      "\u001b[1;31m---------------------------------------------------------------------------\u001b[0m",
      "\u001b[1;31mNameError\u001b[0m                                 Traceback (most recent call last)",
      "\u001b[1;32m<ipython-input-67-c8f92b821a90>\u001b[0m in \u001b[0;36m<module>\u001b[1;34m\u001b[0m\n\u001b[0;32m      1\u001b[0m \u001b[0mny_map\u001b[0m \u001b[1;33m=\u001b[0m \u001b[0mfolium\u001b[0m\u001b[1;33m.\u001b[0m\u001b[0mMap\u001b[0m\u001b[1;33m(\u001b[0m\u001b[1;33m[\u001b[0m\u001b[1;36m40.6643\u001b[0m\u001b[1;33m,\u001b[0m\u001b[1;33m-\u001b[0m\u001b[1;36m73.9385\u001b[0m\u001b[1;33m]\u001b[0m\u001b[1;33m,\u001b[0m \u001b[0mzoom_start\u001b[0m \u001b[1;33m=\u001b[0m \u001b[1;36m11\u001b[0m\u001b[1;33m)\u001b[0m\u001b[1;33m\u001b[0m\u001b[1;33m\u001b[0m\u001b[0m\n\u001b[1;32m----> 2\u001b[1;33m \u001b[0mm\u001b[0m \u001b[1;33m=\u001b[0m \u001b[0mMaps\u001b[0m\u001b[1;33m(\u001b[0m\u001b[0mny_map\u001b[0m\u001b[1;33m)\u001b[0m\u001b[1;33m\u001b[0m\u001b[1;33m\u001b[0m\u001b[0m\n\u001b[0m\u001b[0;32m      3\u001b[0m \u001b[0mm\u001b[0m\u001b[1;33m.\u001b[0m\u001b[0minsertMarkPickup\u001b[0m\u001b[1;33m(\u001b[0m\u001b[0mpickup_latitude_collection\u001b[0m\u001b[1;33m,\u001b[0m\u001b[0mpickup_longitude_collection\u001b[0m\u001b[1;33m)\u001b[0m\u001b[1;33m\u001b[0m\u001b[1;33m\u001b[0m\u001b[0m\n\u001b[0;32m      4\u001b[0m \u001b[0mm\u001b[0m\u001b[1;33m.\u001b[0m\u001b[0minsertMarkDropoff\u001b[0m\u001b[1;33m(\u001b[0m\u001b[0mdropoff_latitude_collection\u001b[0m\u001b[1;33m,\u001b[0m\u001b[0mdropoff_longitude_collection\u001b[0m\u001b[1;33m)\u001b[0m\u001b[1;33m\u001b[0m\u001b[1;33m\u001b[0m\u001b[0m\n\u001b[0;32m      5\u001b[0m \u001b[0mny_map\u001b[0m\u001b[1;33m\u001b[0m\u001b[1;33m\u001b[0m\u001b[0m\n",
      "\u001b[1;31mNameError\u001b[0m: name 'Maps' is not defined"
     ]
    }
   ],
   "source": [
    "ny_map = folium.Map([40.6643,-73.9385], zoom_start = 11)\n",
    "m = Maps(ny_map)\n",
    "m.insertMarkPickup(pickup_latitude_collection,pickup_longitude_collection)\n",
    "m.insertMarkDropoff(dropoff_latitude_collection,dropoff_longitude_collection)\n",
    "ny_map\n",
    "#ny_map.scatter( pickup_latitude_collection, pickup_longitude_collection, '#FF0000', size = 40, marker = True ) \n",
    "#ny_map.scatter( dropoff_latitude_collection, dropoff_longitude_collection, '#0000FF', size = 40, marker = True )\n",
    "#ny_map.draw('NYC_Trips.html')"
   ]
  },
  {
   "cell_type": "code",
   "execution_count": null,
   "metadata": {},
   "outputs": [],
   "source": []
  }
 ],
 "metadata": {
  "kernelspec": {
   "display_name": "Python 3",
   "language": "python",
   "name": "python3"
  },
  "language_info": {
   "codemirror_mode": {
    "name": "ipython",
    "version": 3
   },
   "file_extension": ".py",
   "mimetype": "text/x-python",
   "name": "python",
   "nbconvert_exporter": "python",
   "pygments_lexer": "ipython3",
   "version": "3.8.3"
  }
 },
 "nbformat": 4,
 "nbformat_minor": 4
}
