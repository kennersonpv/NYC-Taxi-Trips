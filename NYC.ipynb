{
 "cells": [
  {
   "cell_type": "markdown",
   "metadata": {},
   "source": [
    "# **NYC Taxi Trips**\n",
    "\n",
    "Os **dados** importados abaixo são relacionados à corridas de **Taxi** em **New York** entre **2009** e **2012**.\n",
    "\n",
    "Os **dados** serão importados e também adicionados em um Banco de Dados. Assim podemos trabalhar com os dados em um Data Frame ou quando são recuperados de um Banco de Dados.\n",
    "\n",
    "Todos os exercícios possuem uma solução utilizando o **DataFrame** e utilizando **SQL Query**.\n",
    "\n",
    "Existem 3 classes **(ImportFile, mark, trips)** no projeto que são essenciais para o funcionamento do código."
   ]
  },
  {
   "cell_type": "code",
   "execution_count": 1,
   "metadata": {},
   "outputs": [],
   "source": [
    "# importando as bibliotecas\n",
    "import numpy as np\n",
    "import pandas as pd\n",
    "import matplotlib.pyplot as plt\n",
    "import gmplot \n",
    "import folium\n",
    "import sqlite3\n",
    "from ImportFile import ImportFile\n",
    "from trips import Trips\n",
    "from mark import Mark"
   ]
  },
  {
   "cell_type": "markdown",
   "metadata": {},
   "source": [
    "Em primeiro lugar, vamos inicializar as variáveis abaixo para **importar os dados**"
   ]
  },
  {
   "cell_type": "code",
   "execution_count": 2,
   "metadata": {},
   "outputs": [],
   "source": [
    "#Inicializa a tabela\n",
    "table = []\n",
    "i = ImportFile(table)"
   ]
  },
  {
   "cell_type": "code",
   "execution_count": 4,
   "metadata": {},
   "outputs": [],
   "source": [
    "#Cria um DB para a importação dos dados\n",
    "conn = sqlite3.connect('NYC_Trips_1.db')\n",
    "c = conn.cursor()"
   ]
  },
  {
   "cell_type": "markdown",
   "metadata": {},
   "source": [
    "Em seguida devemos ler os arquivos com os **dados das corridas** , importá-los na variável `table` e criar o **DataFrame** com os dados da tabela."
   ]
  },
  {
   "cell_type": "code",
   "execution_count": 5,
   "metadata": {},
   "outputs": [],
   "source": [
    "#Leitura dos dados\n",
    "trips_1 = open('data-sample_data-nyctaxi-trips-2009-json_corrigido.json', 'r')\n",
    "trips_2 = open('data-sample_data-nyctaxi-trips-2010-json_corrigido.json', 'r')\n",
    "trips_3 = open('data-sample_data-nyctaxi-trips-2011-json_corrigido.json', 'r')\n",
    "trips_4 = open('data-sample_data-nyctaxi-trips-2012-json_corrigido.json', 'r')"
   ]
  },
  {
   "cell_type": "code",
   "execution_count": 6,
   "metadata": {},
   "outputs": [],
   "source": [
    "#Importação dos dados\n",
    "table = i.importJson(trips_1)\n",
    "table = i.importJson(trips_2)\n",
    "table = i.importJson(trips_3)\n",
    "table = i.importJson(trips_4)"
   ]
  },
  {
   "cell_type": "code",
   "execution_count": 7,
   "metadata": {},
   "outputs": [],
   "source": [
    "#Colocando os dados em um DataFrame\n",
    "df = pd.DataFrame(table)"
   ]
  },
  {
   "cell_type": "code",
   "execution_count": 8,
   "metadata": {},
   "outputs": [
    {
     "name": "stdout",
     "output_type": "stream",
     "text": [
      "<class 'pandas.core.frame.DataFrame'>\n",
      "RangeIndex: 4000000 entries, 0 to 3999999\n",
      "Data columns (total 17 columns):\n",
      " #   Column              Dtype  \n",
      "---  ------              -----  \n",
      " 0   vendor_id           object \n",
      " 1   pickup_datetime     object \n",
      " 2   dropoff_datetime    object \n",
      " 3   passenger_count     int64  \n",
      " 4   trip_distance       float64\n",
      " 5   pickup_longitude    float64\n",
      " 6   pickup_latitude     float64\n",
      " 7   rate_code           object \n",
      " 8   store_and_fwd_flag  float64\n",
      " 9   dropoff_longitude   float64\n",
      " 10  dropoff_latitude    float64\n",
      " 11  payment_type        object \n",
      " 12  fare_amount         float64\n",
      " 13  surcharge           float64\n",
      " 14  tip_amount          float64\n",
      " 15  tolls_amount        float64\n",
      " 16  total_amount        float64\n",
      "dtypes: float64(11), int64(1), object(5)\n",
      "memory usage: 518.8+ MB\n"
     ]
    }
   ],
   "source": [
    "#Verificando as informações do DataFrame\n",
    "df.info()"
   ]
  },
  {
   "cell_type": "code",
   "execution_count": 9,
   "metadata": {},
   "outputs": [],
   "source": [
    "#Importar arquivo Data Payment\n",
    "df_dp = pd.read_csv(\"data-payment_lookup-csv.csv\") \n",
    "\n",
    "#Importar arquivo Data Vendor\n",
    "df_dv = pd.read_csv(\"data-vendor_lookup-csv.csv\") "
   ]
  },
  {
   "cell_type": "markdown",
   "metadata": {},
   "source": [
    "Também devemos exportar os dados do **Data Frame** para tabelas no **Banco de Dados**\n",
    "\n",
    "Três tabelas serão criadas: \n",
    "- **trips**: Contendo os dados das viagens\n",
    "- **payment**: Contendo os dados do pagamento\n",
    "- **vendor**: Contendo os dados da empresa responsável pela corrida"
   ]
  },
  {
   "cell_type": "code",
   "execution_count": 10,
   "metadata": {},
   "outputs": [],
   "source": [
    "#Exportar dados para o SQL\n",
    "#df.to_sql(\"trips\", conn)\n",
    "#df_dp.to_sql(\"payment\", conn)\n",
    "df_dv.to_sql(\"vendor\", conn)"
   ]
  },
  {
   "cell_type": "markdown",
   "metadata": {},
   "source": [
    "Agora, com os **dados** prontos, podemos responder às seguintes **perguntas**:"
   ]
  },
  {
   "cell_type": "markdown",
   "metadata": {},
   "source": [
    "### Questão 1\n",
    "\n",
    "Qual a distância média percorrida por viagens com no **máximo** 2 passageiros?"
   ]
  },
  {
   "cell_type": "code",
   "execution_count": null,
   "metadata": {},
   "outputs": [],
   "source": [
    "#Questao 1\n",
    "print(df.loc[df['passenger_count'] <=2,'trip_distance'].mean())"
   ]
  },
  {
   "cell_type": "code",
   "execution_count": null,
   "metadata": {},
   "outputs": [],
   "source": [
    "#Questão 01 - SQL Query \n",
    "print(pd.read_sql_query(\"\"\"Select avg(trip_distance) From trips\n",
    "                            Where passenger_count <= 2\"\"\",conn))"
   ]
  },
  {
   "cell_type": "markdown",
   "metadata": {},
   "source": [
    "### Questão 2\n",
    "\n",
    "Quais os três **maiores vendors** em quantidade total de dinheiro arrecadado?"
   ]
  },
  {
   "cell_type": "code",
   "execution_count": null,
   "metadata": {},
   "outputs": [],
   "source": [
    "#Questao 2\n",
    "df_q2 = df.groupby(by='vendor_id', sort=True).sum()\n",
    "df_q2 = df_q2.sort_values(by = 'fare_amount', ascending=True)\n",
    "df_q2 = df_q2.merge(df_dv,on='vendor_id')\n",
    "print(df_q2.loc[:,['name','fare_amount']].head(3))"
   ]
  },
  {
   "cell_type": "code",
   "execution_count": null,
   "metadata": {},
   "outputs": [],
   "source": [
    "#Questao 2 - SQL Query\n",
    "print(pd.read_sql_query(\"\"\"Select name, sum(fare_amount) From trips\n",
    "                                   Inner Join vendor On vendor.vendor_id = trips.vendor_id\n",
    "                            group by trips.vendor_id\n",
    "                            order by 2 \"\"\",conn))"
   ]
  },
  {
   "cell_type": "markdown",
   "metadata": {},
   "source": [
    "### Questão 3\n",
    "\n",
    "Faça um histograma da distribuição mensal, nos 4 anos, de corridas pagas em dinheiro?"
   ]
  },
  {
   "cell_type": "code",
   "execution_count": null,
   "metadata": {},
   "outputs": [],
   "source": [
    "#Questao 3\n",
    "df_q3 = df.copy()\n",
    "df_q3['trip'] = 1\n",
    "df_q3 = df_q3.merge(df_dp,on='payment_type')\n",
    "df_q3 = df_q3.loc[df_q3['payment_lookup'] == 'Cash']\n",
    "df_q3['pickup_datetime'] = df_q3['pickup_datetime'].astype(\"datetime64\")\n",
    "df_q3['year'] = df_q3['pickup_datetime'].dt.year\n",
    "df_q3['month'] = df_q3['pickup_datetime'].dt.month\n",
    "df_q3 = df_q3.groupby(by=['month', 'year']).count()\n",
    "df_q3['trip'].plot.hist(bins=12, alpha=0.5)"
   ]
  },
  {
   "cell_type": "code",
   "execution_count": null,
   "metadata": {},
   "outputs": [],
   "source": [
    "#Questao 3 - SQL Query\n",
    "df_q3 = pd.read_sql_query(\"\"\"Select name, sum(fare_amount) From trips\n",
    "                                   Inner Join vendor On vendor.vendor_id = trips.vendor_id\n",
    "                            group by trips.vendor_id\n",
    "                            order by 2 \"\"\",conn)\n",
    "df_q3.plot.hist(bins=12, alpha=0.5)"
   ]
  },
  {
   "cell_type": "markdown",
   "metadata": {},
   "source": [
    "### Questão 4\n",
    "\n",
    "Faça um gráfico de **série temporal** contando a quantidade de gorjetas de cada dia, nos\n",
    "**últimos** 3 meses de 2012"
   ]
  },
  {
   "cell_type": "code",
   "execution_count": null,
   "metadata": {},
   "outputs": [],
   "source": [
    "#Questão 04\n",
    "df_q4 = df.copy()\n",
    "df_q4['pickup_datetime'] = df_q4['pickup_datetime'].astype(\"datetime64\")\n",
    "df_q4['date'] = df_q4['pickup_datetime'].dt.date\n",
    "start_date_q4 = pd.to_datetime('2012-10-01')\n",
    "end_date_q4 = pd.to_datetime('2013-01-01')\n",
    "df_q4 = df_q4.loc[(df_q4['pickup_datetime'] >= start_date_q4) & (df_q4['pickup_datetime'] < end_date_q4)]\n",
    "t = Trips(df_q4)\n",
    "df_q4 = t.has_tip('tip_amount')\n",
    "df_q4 = df_q4.loc[df_q4['tip'] ==1, ['date','tip']]\n",
    "df_q4.groupby(by=['date']).count().plot(style='-o', figsize=(10,5), grid=True)"
   ]
  },
  {
   "cell_type": "code",
   "execution_count": null,
   "metadata": {},
   "outputs": [],
   "source": [
    "#Questao 3 - SQL Query\n",
    "df_q4 = pd.read_sql_query(\"\"\"Select strftime(\"%m-%Y\", pickup_datetime) as month, count(1) From trips\n",
    "                            where pickup_datetime between '2012-10-01' and '2013-01-01'\n",
    "                              and tip_amount > 0\n",
    "                            group by strftime(\"%d-%m-%Y\", pickup_datetime)\n",
    "                            \"\"\",conn)\n",
    "df_q4.plot(style='-o', figsize=(10,5), grid=True)"
   ]
  },
  {
   "cell_type": "markdown",
   "metadata": {},
   "source": [
    "### Questão 5\n",
    "\n",
    "Qual o **tempo médio** das corridas nos dias de **sábado** e **domingo**"
   ]
  },
  {
   "cell_type": "code",
   "execution_count": null,
   "metadata": {},
   "outputs": [],
   "source": [
    "#Questão 05\n",
    "df_q5 = df.copy()\n",
    "df_q5['weekend'] = ((pd.DatetimeIndex(df_q5['pickup_datetime']).dayofweek) // 5 == 1).astype(float)\n",
    "df_q5['pickup_datetime'] = df_q5['pickup_datetime'].astype(\"datetime64\")\n",
    "df_q5['dropoff_datetime'] = df_q5['dropoff_datetime'].astype(\"datetime64\")\n",
    "df_q5 = df_q5.loc[df_q5['weekend'] == 1]\n",
    "df_q5['time_trip'] = (df_q5['dropoff_datetime'] - df_q5['pickup_datetime']) / np.timedelta64(1,'m')\n",
    "print(df_q5['time_trip'].mean())"
   ]
  },
  {
   "cell_type": "code",
   "execution_count": null,
   "metadata": {},
   "outputs": [],
   "source": [
    "#Questão 05 - SQL Query\n",
    "print(pd.read_sql_query(\"\"\"Select avg(Cast ((JulianDay(dropoff_datetime) - JulianDay(pickup_datetime)) * 24 * 60 As Integer)) As Mean From trips\n",
    "                            where strftime('%w', pickup_datetime ) / 5 == 1\n",
    "                            \"\"\",conn))"
   ]
  },
  {
   "cell_type": "markdown",
   "metadata": {},
   "source": [
    "### Questão 6\n",
    "\n",
    "Fazer uma visualização em mapa com **latitude** e **longitude** de **pickups** and **dropoffs** no ano\n",
    "de **2010**\n",
    "\n",
    "**PS:** A linha contendo o comando `ny_map` está comentada por motivos de pouca memória. Sorry!"
   ]
  },
  {
   "cell_type": "code",
   "execution_count": null,
   "metadata": {},
   "outputs": [],
   "source": [
    "#Questão 06\n",
    "df_q6 = df.copy()\n",
    "df_q6['pickup_datetime'] = df_q6['pickup_datetime'].astype(\"datetime64\")\n",
    "df_q6['date'] = df_q6['pickup_datetime'].dt.date\n",
    "start_date_q6 = pd.to_datetime('2010-01-01')\n",
    "end_date_q6 = pd.to_datetime('2011-01-01')\n",
    "df_q6 = df_q6.loc[(df_q6['pickup_datetime'] >= start_date_q6) & (df_q6['pickup_datetime'] < end_date_q6)].reset_index()\n",
    "pickup_latitude_collection = df_q6.loc[:,'pickup_latitude']\n",
    "pickup_longitude_collection = df_q6.loc[:,'pickup_longitude'] \n",
    "dropoff_latitude_collection = df_q6.loc[:,'dropoff_latitude'] \n",
    "dropoff_longitude_collection =  df_q6.loc[:,'dropoff_longitude'] \n",
    "ny_map = folium.Map([40.6643,-73.9385], zoom_start = 11)\n",
    "m = Mark(ny_map)\n",
    "m.insertMarkPickup(pickup_latitude_collection,pickup_longitude_collection)\n",
    "m.insertMarkDropoff(dropoff_latitude_collection,dropoff_longitude_collection)\n",
    "#ny_map"
   ]
  },
  {
   "cell_type": "code",
   "execution_count": null,
   "metadata": {},
   "outputs": [],
   "source": [
    "#Questão 06 - SQL Query\n",
    "df_q6 = pd.read_sql_query(\"\"\"Select pickup_latitude, pickup_longitude, dropoff_latitude, dropoff_longitude From trips\n",
    "                            where pickup_datetime between '2010-01-01' and '2011-01-01'\n",
    "                            \"\"\",conn)\n",
    "\n",
    "ny_map = folium.Map([40.6643,-73.9385], zoom_start = 11)\n",
    "m = Mark(ny_map)\n",
    "m.insertMarkPickup(df_q6['pickup_latitude'],df_q6['pickup_longitude'])\n",
    "m.insertMarkDropoff(df_q6['dropoff_latitude'],df_q6['dropoff_longitude'])\n",
    "#ny_map"
   ]
  },
  {
   "cell_type": "code",
   "execution_count": null,
   "metadata": {},
   "outputs": [],
   "source": []
  }
 ],
 "metadata": {
  "kernelspec": {
   "display_name": "Python 3",
   "language": "python",
   "name": "python3"
  },
  "language_info": {
   "codemirror_mode": {
    "name": "ipython",
    "version": 3
   },
   "file_extension": ".py",
   "mimetype": "text/x-python",
   "name": "python",
   "nbconvert_exporter": "python",
   "pygments_lexer": "ipython3",
   "version": "3.8.3"
  }
 },
 "nbformat": 4,
 "nbformat_minor": 4
}
